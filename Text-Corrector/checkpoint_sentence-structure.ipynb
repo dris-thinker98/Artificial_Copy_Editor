{
  "nbformat": 4,
  "nbformat_minor": 0,
  "metadata": {
    "kernelspec": {
      "display_name": "Python 3",
      "language": "python",
      "name": "python3"
    },
    "language_info": {
      "codemirror_mode": {
        "name": "ipython",
        "version": 3
      },
      "file_extension": ".py",
      "mimetype": "text/x-python",
      "name": "python",
      "nbconvert_exporter": "python",
      "pygments_lexer": "ipython3",
      "version": "3.5.2"
    },
    "colab": {
      "name": "sentence_structure-checkpoint.ipynb",
      "version": "0.3.2",
      "provenance": []
    }
  },
  "cells": [
    {
      "cell_type": "code",
      "metadata": {
        "id": "meEbKApa2SmP",
        "colab_type": "code",
        "colab": {},
        "outputId": "d8cb7fca-5717-4fe9-b509-1042e8d2a373"
      },
      "source": [
        "f = open('deps.txt')\n",
        "lines = f.read().splitlines()\n",
        "f.close()\n",
        "\n",
        "deps_dict = {}\n",
        "counter = 65\n",
        "for dep in lines:\n",
        "    deps_dict[dep.replace(' ', '').lower()] = chr(counter)\n",
        "    if(counter == 90):\n",
        "        counter = 97\n",
        "    else:\n",
        "        counter += 1\n",
        "\n",
        "# deprecated labels to be taken care of\n",
        "deps_dict['npadvmod'] = 'b'\n",
        "deps_dict['nmod'] = 'a'\n",
        "print(deps_dict)"
      ],
      "execution_count": 0,
      "outputs": [
        {
          "output_type": "stream",
          "text": [
            "{'nounmod': 'a', 'predet': 'l', 'dep': 'S', 'prep': 'm', 'nsubjpass': 'd', 'nsubj': 'c', 'acomp': 'B', 'appos': 'G', 'parataxis': 'g', 'root': 'r', 'ccomp': 'M', 'csubjpass': 'Q', 'relcl': 'q', 'case': 'K', 'pcomp': 'h', 'det': 'T', 'nmod': 'a', 'preconj': 'k', 'acl': 'A', 'advmod': 'D', 'auxpass': 'J', 'nummod': 'e', 'dobj': 'U', 'meta': 'Y', 'oprd': 'f', 'expl': 'V', 'csubj': 'P', 'agent': 'E', 'intj': 'W', 'aux': 'I', 'pobj': 'i', 'quantmod': 'p', 'advcl': 'C', 'amod': 'F', 'prt': 'n', 'conj': 'O', 'neg': 'Z', 'npmod': 'b', 'attr': 'H', 'poss': 'j', 'punct': 'o', 'compound': 'N', 'mark': 'X', 'cc': 'L', 'npadvmod': 'b', 'xcomp': 's', 'dative': 'R'}\n"
          ],
          "name": "stdout"
        }
      ]
    },
    {
      "cell_type": "code",
      "metadata": {
        "id": "jOh9B70S2SmZ",
        "colab_type": "code",
        "colab": {},
        "outputId": "7a48c27b-7c7d-4cbc-f8a0-ea5bfc87b3ea"
      },
      "source": [
        "import spacy\n",
        "nlp = spacy.load('en_core_web_sm')\n",
        "doc = nlp(\"I am going out with my family.\")\n",
        "\n",
        "sent_struct = []\n",
        "for token in doc:\n",
        "    sent_struct.append(deps_dict[token.dep_.lower()])\n",
        "\n",
        "sentence_code = ''.join(sent_struct)\n",
        "print(sentence_code)"
      ],
      "execution_count": 0,
      "outputs": [
        {
          "output_type": "stream",
          "text": [
            "cIrnmjio\n"
          ],
          "name": "stdout"
        }
      ]
    },
    {
      "cell_type": "code",
      "metadata": {
        "id": "64UJOnvR2Smc",
        "colab_type": "code",
        "colab": {}
      },
      "source": [
        "def encode_sentence(english):\n",
        "    doc = nlp(english)\n",
        "\n",
        "    sent_struct = []\n",
        "    for token in doc:\n",
        "        sent_struct.append(deps_dict[token.dep_.lower()])\n",
        "\n",
        "    sentence_code = ''.join(sent_struct)\n",
        "    return sentence_code"
      ],
      "execution_count": 0,
      "outputs": []
    },
    {
      "cell_type": "code",
      "metadata": {
        "id": "gaDjFylR2Smg",
        "colab_type": "code",
        "colab": {}
      },
      "source": [
        "import nltk\n",
        "from nltk.corpus import brown\n",
        "from nltk.tokenize.moses import MosesDetokenizer\n",
        "mdetok = MosesDetokenizer()"
      ],
      "execution_count": 0,
      "outputs": []
    },
    {
      "cell_type": "code",
      "metadata": {
        "id": "Hek630Rs2Smj",
        "colab_type": "code",
        "colab": {}
      },
      "source": [
        "sentence_code_dict = {}\n",
        "\n",
        "for book in brown.fileids():\n",
        "    for sent in brown.sents(book):\n",
        "        munged_sentence = ' '.join(sent).replace('``', '\"').replace(\"''\", '\"').replace('`', \"'\")\n",
        "        payload = nlp(mdetok.detokenize(munged_sentence.split(), return_str=True))\n",
        "        sent_struct = []\n",
        "        for token in payload:\n",
        "            sent_struct.append(deps_dict[token.dep_.lower()])\n",
        "    \n",
        "        sentence_code = ''.join(sent_struct)\n",
        "        #print(payload.text)\n",
        "        #print(sentence_code)\n",
        "        #print('--')\n",
        "        if sentence_code in sentence_code_dict:\n",
        "            sentence_code_dict[sentence_code] += 1\n",
        "        else:\n",
        "            sentence_code_dict[sentence_code] = 1\n",
        "\n",
        "# print(sentence_code_dict)"
      ],
      "execution_count": 0,
      "outputs": []
    },
    {
      "cell_type": "code",
      "metadata": {
        "id": "vEIybsjl2Smm",
        "colab_type": "code",
        "colab": {},
        "outputId": "2b33313c-1351-4bfa-b8e4-79250d0a6b58"
      },
      "source": [
        "custom_sentence = 'Ronaldo has been the most consistent performer today.'\n",
        "payload = nlp(custom_sentence)\n",
        "sent_struct = []\n",
        "for token in payload:\n",
        "    sent_struct.append(deps_dict[token.dep_.lower()])\n",
        "sentence_code = ''.join(sent_struct)\n",
        "print(sentence_code)\n",
        "if sentence_code in sentence_code_dict:\n",
        "    sentence_code_dict[sentence_code] += 1\n",
        "else:\n",
        "    sentence_code_dict[sentence_code] = 1"
      ],
      "execution_count": 0,
      "outputs": [
        {
          "output_type": "stream",
          "text": [
            "cIrTDFHbo\n"
          ],
          "name": "stdout"
        }
      ]
    },
    {
      "cell_type": "code",
      "metadata": {
        "id": "FCzAMTg92Smq",
        "colab_type": "code",
        "colab": {},
        "outputId": "675e3dd1-aa9b-4c00-efa2-a9e4c73f554f"
      },
      "source": [
        "sentence_code_dict['TcIrmTio']"
      ],
      "execution_count": 0,
      "outputs": [
        {
          "output_type": "execute_result",
          "data": {
            "text/plain": [
              "7"
            ]
          },
          "metadata": {
            "tags": []
          },
          "execution_count": 103
        }
      ]
    },
    {
      "cell_type": "code",
      "metadata": {
        "id": "Dbiq1o2Z2Smu",
        "colab_type": "code",
        "colab": {}
      },
      "source": [
        "f = open('sentence_codes.txt', 'w')\n",
        "\n",
        "for key, value in sentence_code_dict.items():\n",
        "    f.write(key + ' ' + str(value) + '\\n')\n",
        "\n",
        "f.close()\n",
        "\n",
        "import numpy as np\n",
        "np.save('sentence_correction_dict.npy', sentence_code_dict)"
      ],
      "execution_count": 0,
      "outputs": []
    },
    {
      "cell_type": "code",
      "metadata": {
        "id": "atqN7F8K2Smz",
        "colab_type": "code",
        "colab": {},
        "outputId": "3460a377-c267-4d70-f3a7-71fc91e802f6"
      },
      "source": [
        "import os\n",
        "\n",
        "import numpy as np\n",
        "from sympound import sympound\n",
        "\n",
        "import platform\n",
        "distancefun = None\n",
        "if platform.system() != \"Windows\":\n",
        "    from pyxdameraulevenshtein import damerau_levenshtein_distance\n",
        "    distancefun = damerau_levenshtein_distance\n",
        "else:\n",
        "    from jellyfish import levenshtein_distance\n",
        "    distancefun = levenshtein_distance\n",
        "\n",
        "\n",
        "ssc = sympound(distancefun=distancefun, maxDictionaryEditDistance=3)\n",
        "\n",
        "def test():\n",
        "    # ssc.create_dictionary_entry(\"bonjour\", 1) # optional, only if adding dictionary items is required\n",
        "    \n",
        "    sc_dict = np.load('sentence_correction_dict.npy').item()\n",
        "    \n",
        "    ssc.load_dictionary(\"sentence_codes.txt\", term_index=0, count_index=1)\n",
        "    payload = encode_sentence('Ronaldo has been most consistent performer on today.')\n",
        "    \n",
        "    if payload in sc_dict:\n",
        "        print('correct!')\n",
        "        return\n",
        "    \n",
        "    try:\n",
        "        #result = ssc.lookup_compound(input_string=payload, edit_distance_max=1) # choose edit_distance carefully\n",
        "        result = ssc.lookup(input_string=payload, verbosity=0, edit_distance_max=1) # choose edit_distance carefully\n",
        "    except TypeError:\n",
        "        print('no matches!')\n",
        "        return\n",
        "    \n",
        "    if(result == []):\n",
        "        return\n",
        "    \n",
        "    print(result[-1])\n",
        "    result = str(result[-1]).split(':')\n",
        "    print('wrong :      ' + payload)\n",
        "    print('correction : ' + result[0])\n",
        "    print('position : ' + result[2])\n",
        "    \n",
        "    ssc.save_pickle(\"symspell.pickle\")\n",
        "    #ssc.load_pickle(\"symspell.pickle\")\n",
        "\n",
        "test()"
      ],
      "execution_count": 0,
      "outputs": [
        {
          "output_type": "stream",
          "text": [
            "cIrjFHmio:3:1\n",
            "wrong :      cIrDFHmio\n",
            "correction : cIrjFHmio\n",
            "position : 1\n"
          ],
          "name": "stdout"
        }
      ]
    },
    {
      "cell_type": "code",
      "metadata": {
        "id": "mm4gEUrw2Sm4",
        "colab_type": "code",
        "colab": {},
        "outputId": "0fc144f4-0fca-4f6f-81b1-ce24cf4e8cd4"
      },
      "source": [
        "f = open('deps.txt')\n",
        "lines = f.read().splitlines()\n",
        "f.close()\n",
        "\n",
        "inv_deps_dict = {}\n",
        "counter = 65\n",
        "for dep in lines:\n",
        "    inv_deps_dict[chr(counter)] = dep.replace(' ', '').lower()\n",
        "    if(counter == 90):\n",
        "        counter = 97\n",
        "    else:\n",
        "        counter += 1\n",
        "\n",
        "# deprecated labels to be taken care of\n",
        "inv_deps_dict['b'] = 'npadvmod'\n",
        "inv_deps_dict['a'] = 'nmod'\n",
        "print(inv_deps_dict)"
      ],
      "execution_count": 0,
      "outputs": [
        {
          "output_type": "stream",
          "text": [
            "{'O': 'conj', 'i': 'pobj', 'X': 'mark', 'N': 'compound', 'p': 'quantmod', 'I': 'aux', 'V': 'expl', 'b': 'npadvmod', 'a': 'nmod', 'q': 'relcl', 'A': 'acl', 'd': 'nsubjpass', 'C': 'advcl', 'U': 'dobj', 'T': 'det', 'j': 'poss', 'E': 'agent', 'K': 'case', 'n': 'prt', 'M': 'ccomp', 'm': 'prep', 'c': 'nsubj', 'W': 'intj', 'F': 'amod', 'l': 'predet', 'B': 'acomp', 'Q': 'csubjpass', 'Z': 'neg', 'L': 'cc', 'Y': 'meta', 'S': 'dep', 'R': 'dative', 'r': 'root', 's': 'xcomp', 'D': 'advmod', 'f': 'oprd', 'k': 'preconj', 'h': 'pcomp', 'H': 'attr', 'G': 'appos', 'o': 'punct', 'g': 'parataxis', 'P': 'csubj', 'e': 'nummod', 'J': 'auxpass'}\n"
          ],
          "name": "stdout"
        }
      ]
    },
    {
      "cell_type": "code",
      "metadata": {
        "id": "BU9VciHi2Sm8",
        "colab_type": "code",
        "colab": {}
      },
      "source": [
        "def decode_coding(code):\n",
        "    code_list = list(code.replace(' ', ''))\n",
        "    decoded_list = []\n",
        "    for char in code_list:\n",
        "        decoded_list.append(inv_deps_dict[char])\n",
        "    return decoded_list"
      ],
      "execution_count": 0,
      "outputs": []
    },
    {
      "cell_type": "code",
      "metadata": {
        "id": "RyRc3fzf2Sm_",
        "colab_type": "code",
        "colab": {},
        "outputId": "6b611f86-ba63-4fd7-8757-8c3889042464"
      },
      "source": [
        "mycode = 'TcIIrmTio'\n",
        "decode_coding(mycode)"
      ],
      "execution_count": 0,
      "outputs": [
        {
          "output_type": "execute_result",
          "data": {
            "text/plain": [
              "['det', 'nsubj', 'aux', 'aux', 'root', 'prep', 'det', 'pobj', 'punct']"
            ]
          },
          "metadata": {
            "tags": []
          },
          "execution_count": 26
        }
      ]
    },
    {
      "cell_type": "code",
      "metadata": {
        "id": "Rrv0-sNZ2SnC",
        "colab_type": "code",
        "colab": {},
        "outputId": "1510624c-4470-4dc3-8aa5-c1fb7e837ce9"
      },
      "source": [
        "def correct():\n",
        "    # ssc.create_dictionary_entry(\"bonjour\", 1) # optional, only if adding dictionary items is required\n",
        "    \n",
        "    sc_dict = np.load('sentence_correction_dict.npy').item()\n",
        "    \n",
        "    ssc.load_dictionary(\"sentence_codes.txt\", term_index=0, count_index=1)\n",
        "    payload = encode_sentence('Ronaldo has been most consistent performer in today.')\n",
        "    \n",
        "    if payload in sc_dict:\n",
        "        print('correct!')\n",
        "        return\n",
        "    \n",
        "    try:\n",
        "        #result = ssc.lookup_compound(input_string=payload, edit_distance_max=1) # choose edit_distance carefully\n",
        "        result = ssc.lookup(input_string=payload, verbosity=0, edit_distance_max=1) # choose edit_distance carefully\n",
        "    except TypeError:\n",
        "        print('no matches!')\n",
        "        return\n",
        "    \n",
        "    if(result == []):\n",
        "        return\n",
        "    \n",
        "    print(result[-1])\n",
        "    result = str(result[-1]).split(':')\n",
        "    print('wrong :      ' + payload)\n",
        "    print('correction : ' + result[0])\n",
        "    #print('position : ' + result[2])\n",
        "    \n",
        "    correct_broke = list(result[0])\n",
        "    wrong_broke = list(payload)\n",
        "    \n",
        "    ssc.save_pickle(\"symspell.pickle\")\n",
        "    #ssc.load_pickle(\"symspell.pickle\")\n",
        "\n",
        "correct()"
      ],
      "execution_count": 0,
      "outputs": [
        {
          "output_type": "error",
          "ename": "SyntaxError",
          "evalue": "invalid syntax (<ipython-input-17-90b225a4df49>, line 32)",
          "traceback": [
            "\u001b[0;36m  File \u001b[0;32m\"<ipython-input-17-90b225a4df49>\"\u001b[0;36m, line \u001b[0;32m32\u001b[0m\n\u001b[0;31m    for i in range()\u001b[0m\n\u001b[0m                    ^\u001b[0m\n\u001b[0;31mSyntaxError\u001b[0m\u001b[0;31m:\u001b[0m invalid syntax\n"
          ]
        }
      ]
    },
    {
      "cell_type": "code",
      "metadata": {
        "id": "tx9B6o7V2SnG",
        "colab_type": "code",
        "colab": {},
        "outputId": "cca91a9c-7400-4930-dd17-26eaccbffd84"
      },
      "source": [
        "correct = list('cIFrTDFHboT')\n",
        "wrong = list('cIrDFHboT')\n",
        "wrong, common = wrong[:], [ e for e in correct if e in wrong and (wrong.pop(wrong.index(e)) or True)]\n",
        "common"
      ],
      "execution_count": 0,
      "outputs": [
        {
          "output_type": "execute_result",
          "data": {
            "text/plain": [
              "['c', 'I', 'F', 'r', 'T', 'D', 'H', 'b', 'o']"
            ]
          },
          "metadata": {
            "tags": []
          },
          "execution_count": 15
        }
      ]
    },
    {
      "cell_type": "code",
      "metadata": {
        "id": "ycH_7Sa72SnJ",
        "colab_type": "code",
        "colab": {},
        "outputId": "52fdff15-cd89-425d-8461-6aa468702185"
      },
      "source": [
        "x = ['1', '2', '3', '4']\n",
        "x.pop(3)"
      ],
      "execution_count": 0,
      "outputs": [
        {
          "output_type": "execute_result",
          "data": {
            "text/plain": [
              "'4'"
            ]
          },
          "metadata": {
            "tags": []
          },
          "execution_count": 3
        }
      ]
    },
    {
      "cell_type": "code",
      "metadata": {
        "id": "4YJ_3Kv22SnM",
        "colab_type": "code",
        "colab": {},
        "outputId": "7596cd99-2190-4bae-f44a-ac56295c6385"
      },
      "source": [
        "x"
      ],
      "execution_count": 0,
      "outputs": [
        {
          "output_type": "execute_result",
          "data": {
            "text/plain": [
              "['1', '2', '3']"
            ]
          },
          "metadata": {
            "tags": []
          },
          "execution_count": 4
        }
      ]
    },
    {
      "cell_type": "code",
      "metadata": {
        "id": "Me7AbsdB2SnP",
        "colab_type": "code",
        "colab": {}
      },
      "source": [
        ""
      ],
      "execution_count": 0,
      "outputs": []
    }
  ]
}